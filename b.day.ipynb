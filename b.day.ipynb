{
 "cells": [
  {
   "cell_type": "markdown",
   "id": "b7a9192c",
   "metadata": {},
   "source": [
    "# Quanto manca al tuo compleanno ?\n",
    "\n",
    "Inserisci in input la data del tuo compleanno in formato giorno/mese (es 11/06 per l'11 di Giugno). Scrivi un programma in grado di calcolare i giorni mancanti al tuo compleanno e stampa il risultato in output.\n",
    "\n",
    "**SUGGERIMENTI**\n",
    "\n",
    "Puoi utilizzare gli operatori di confronto per confrontare due date"
   ]
  },
  {
   "cell_type": "code",
   "execution_count": 13,
   "id": "3628f9c1",
   "metadata": {},
   "outputs": [
    {
     "name": "stdout",
     "output_type": "stream",
     "text": [
      "Qual è il giorno del tuo compleanno? [dd/mm]: 26/11\n",
      "Mancano ancora 224 giorni al tuo compleanno.\n"
     ]
    }
   ],
   "source": [
    "from datetime import datetime\n",
    "\n",
    "now = datetime.now()\n",
    "\n",
    "bday_str = input(\"Qual è il giorno del tuo compleanno? [dd/mm]: \")\n",
    "bday = datetime.strptime(bday_str, \"%d/%m\")\n",
    "bday = bday.replace(year=now.year)\n",
    "\n",
    "if bday < now:\n",
    "    bday = bday.replace(year=now.year+1)\n",
    "\n",
    "to_bday = bday-now\n",
    "print(f\"Mancano ancora {to_bday.days} giorni al tuo compleanno.\")\n",
    "\n"
   ]
  },
  {
   "cell_type": "code",
   "execution_count": null,
   "id": "bfa0bcba",
   "metadata": {},
   "outputs": [],
   "source": []
  }
 ],
 "metadata": {
  "kernelspec": {
   "display_name": "Python 3",
   "language": "python",
   "name": "python3"
  },
  "language_info": {
   "codemirror_mode": {
    "name": "ipython",
    "version": 3
   },
   "file_extension": ".py",
   "mimetype": "text/x-python",
   "name": "python",
   "nbconvert_exporter": "python",
   "pygments_lexer": "ipython3",
   "version": "3.8.8"
  }
 },
 "nbformat": 4,
 "nbformat_minor": 5
}
