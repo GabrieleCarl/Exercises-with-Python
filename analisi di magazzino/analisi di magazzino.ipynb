{
 "cells": [
  {
   "cell_type": "markdown",
   "id": "f0c8a9d4",
   "metadata": {},
   "source": [
    "# Analisi di magazzino\n",
    "\n",
    "Apri il file shirts.csv e calcola le seguenti statistiche su di esso:\n",
    "\n",
    "1. Numero totale dei prodotti presenti.\n",
    "2. Valore totale del magazzino (la somma del prezzo di tutti i prodotti).\n",
    "3. Prezzo medio dei prodotti.\n",
    "4. Numero di prodotti per ogni colore.\n",
    "5. Numero di prodotti per ogni taglia.\n",
    "\n",
    "Salva le modifiche all'interno di un file json chiamato shirts_stats.json."
   ]
  },
  {
   "cell_type": "code",
   "execution_count": 2,
   "id": "d0275d58",
   "metadata": {},
   "outputs": [],
   "source": [
    "import csv\n",
    "import json\n",
    "\n",
    "\n",
    "stats = {\"prodotti\":0, \"valore_totale\":0, \"taglie\":{}, \"colore\":{}}\n",
    "\n",
    "with open(\"shirts.csv\") as csv_file:\n",
    "    \n",
    "    csv_reader = csv.DictReader(csv_file)\n",
    "    \n",
    "    for row in csv_reader:\n",
    "        \n",
    "        stats[\"prodotti\"]+=1\n",
    "        stats[\"valore_totale\"]+=float(row[\"prezzo\"])\n",
    "        \n",
    "        if row[\"taglia\"] in stats[\"taglie\"]:\n",
    "            stats[\"taglie\"][row[\"taglia\"]]+=1\n",
    "        else:\n",
    "            stats[\"taglie\"][row[\"taglia\"]]=1\n",
    "            \n",
    "        \n",
    "        if row[\"colore\"] in stats[\"colore\"]:\n",
    "            stats[\"colore\"][row[\"colore\"]]+=1\n",
    "        else:\n",
    "            stats[\"colore\"][row[\"colore\"]]=1\n",
    "            \n",
    "stats[\"valore_totale\"] = round(stats[\"valore_totale\"], 2)\n",
    "stats[\"prezzo_medio\"] = round(stats[\"valore_totale\"] / stats[\"prodotti\"], 2)\n",
    "\n",
    "with open(\"shirts_stats.json\", \"w\") as json_file:\n",
    "    json.dump(stats, json_file, indent=4)\n",
    "            \n",
    "            \n",
    "        "
   ]
  },
  {
   "cell_type": "code",
   "execution_count": null,
   "id": "b672cf15",
   "metadata": {},
   "outputs": [],
   "source": []
  }
 ],
 "metadata": {
  "kernelspec": {
   "display_name": "Python 3",
   "language": "python",
   "name": "python3"
  },
  "language_info": {
   "codemirror_mode": {
    "name": "ipython",
    "version": 3
   },
   "file_extension": ".py",
   "mimetype": "text/x-python",
   "name": "python",
   "nbconvert_exporter": "python",
   "pygments_lexer": "ipython3",
   "version": "3.8.8"
  }
 },
 "nbformat": 4,
 "nbformat_minor": 5
}
