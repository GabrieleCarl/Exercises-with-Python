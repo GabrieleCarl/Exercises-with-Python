{
 "cells": [
  {
   "cell_type": "markdown",
   "id": "5fee9a16",
   "metadata": {},
   "source": [
    "### Filtra i proverbi\n",
    "\n",
    "Leggi il contenuto del file proverbi.txt e scrivi su di un nuovo file chiamato proverbi_filtrati.txt solo i proverbi che iniziano per vocale o che sono più brevi di 25 caratteri."
   ]
  },
  {
   "cell_type": "code",
   "execution_count": 28,
   "id": "e2d9a28e",
   "metadata": {},
   "outputs": [],
   "source": [
    "proverbs_file = open(\"proverbi.txt\")\n",
    "proverbs_filtred_file = open(\"proverbi_filtrati.txt\", \"w\")\n",
    "\n",
    "for line in proverbs_file.readlines():\n",
    "    if len(line)<25 or line[0].lower() in [\"a\",\"e\",\"i\",\"o\",\"u\"]:\n",
    "        proverbs_filtred_file.write(line)\n",
    "        \n",
    "proverbs_file.close()\n",
    "proverbs_filtred_file.close()"
   ]
  },
  {
   "cell_type": "code",
   "execution_count": null,
   "id": "3d606319",
   "metadata": {},
   "outputs": [],
   "source": [
    "\n"
   ]
  },
  {
   "cell_type": "code",
   "execution_count": 24,
   "id": "512649ca",
   "metadata": {},
   "outputs": [],
   "source": []
  },
  {
   "cell_type": "code",
   "execution_count": null,
   "id": "7723ec75",
   "metadata": {},
   "outputs": [],
   "source": []
  },
  {
   "cell_type": "code",
   "execution_count": null,
   "id": "c13d833c",
   "metadata": {},
   "outputs": [],
   "source": []
  }
 ],
 "metadata": {
  "kernelspec": {
   "display_name": "Python 3",
   "language": "python",
   "name": "python3"
  },
  "language_info": {
   "codemirror_mode": {
    "name": "ipython",
    "version": 3
   },
   "file_extension": ".py",
   "mimetype": "text/x-python",
   "name": "python",
   "nbconvert_exporter": "python",
   "pygments_lexer": "ipython3",
   "version": "3.8.8"
  }
 },
 "nbformat": 4,
 "nbformat_minor": 5
}
