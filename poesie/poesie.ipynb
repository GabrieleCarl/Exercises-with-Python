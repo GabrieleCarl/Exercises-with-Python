{
 "cells": [
  {
   "cell_type": "markdown",
   "id": "fbc3a50d",
   "metadata": {},
   "source": [
    "## Poesie su un file\n",
    "\n",
    "Leggi tutte le poesie dalla directory poesie e savale all'interno di un unico file chiamato raccolta_poesie.txt che si dovrà trovare all'interno di una nuova directory chiamata raccolta*. Prima di una poesia inserisci un contatore (es. POESIA 1). Guarda il file raccolta_poesie_esempio.txt per avere un'idea dell'output che devi ottenere."
   ]
  },
  {
   "cell_type": "code",
   "execution_count": 1,
   "id": "496894db",
   "metadata": {},
   "outputs": [],
   "source": [
    "from os import listdir, mkdir\n",
    "\n",
    "PATH = \"files_poesie/\"\n",
    "NEW_PATH = \"raccolta/\"\n",
    "NEW_FILE_NAME = NEW_PATH+\"raccolta_poesie.txt\"\n",
    "\n",
    "mkdir(NEW_PATH)\n",
    "new_file = open(NEW_FILE_NAME, \"w\")\n",
    "\n",
    "c = 1\n",
    "\n",
    "for f_name in listdir(PATH):\n",
    "    if not \".txt\" in f_name:\n",
    "        continue\n",
    "        \n",
    "    with open(PATH+f_name) as f:\n",
    "        new_file.write(f\"Poesia {c}\\n\")\n",
    "        new_file.write(f.read()+\"\\n\\n\")\n",
    "        c+=1\n",
    "\n",
    "new_file.close()\n",
    "\n",
    "\n"
   ]
  },
  {
   "cell_type": "code",
   "execution_count": null,
   "id": "df18cdcc",
   "metadata": {},
   "outputs": [],
   "source": []
  },
  {
   "cell_type": "code",
   "execution_count": null,
   "id": "e5eb0903",
   "metadata": {},
   "outputs": [],
   "source": []
  },
  {
   "cell_type": "code",
   "execution_count": null,
   "id": "d9682f82",
   "metadata": {},
   "outputs": [],
   "source": []
  },
  {
   "cell_type": "code",
   "execution_count": null,
   "id": "0bd50c5f",
   "metadata": {},
   "outputs": [],
   "source": []
  },
  {
   "cell_type": "code",
   "execution_count": null,
   "id": "070360bc",
   "metadata": {},
   "outputs": [],
   "source": []
  }
 ],
 "metadata": {
  "kernelspec": {
   "display_name": "Python 3",
   "language": "python",
   "name": "python3"
  },
  "language_info": {
   "codemirror_mode": {
    "name": "ipython",
    "version": 3
   },
   "file_extension": ".py",
   "mimetype": "text/x-python",
   "name": "python",
   "nbconvert_exporter": "python",
   "pygments_lexer": "ipython3",
   "version": "3.8.8"
  }
 },
 "nbformat": 4,
 "nbformat_minor": 5
}
