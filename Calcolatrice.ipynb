{
 "cells": [
  {
   "cell_type": "markdown",
   "id": "3b226b9b",
   "metadata": {},
   "source": [
    "## Calcolatrice\n",
    "\n",
    "Definisci una funzione per eseguire dei semplici calcoli, la funzione prende in ingresso due valori numerici ed una stringa contenente un'operazione aritmetica (+, -, *, /) ed esegue tale operazione tra i due numeri. Acquisisci in input i parametri della funzione\n",
    "\n",
    "1. utilizza il try/except per gestire l'eccezione che si causa nel caso in cui viene inserito un valore non numerico.\n",
    "\n",
    "2. utilizza l'assert per assicurarti che l'operatore aritmetico sia valido, cioè sia un carattere tra +,-,*,/.\n",
    "\n",
    "3. utilizza il try/except per gestire il caso di divisioni per 0, in tal caso stampa semplicemente un messaggio 'Non puoi dividere per 0'.\n",
    "\n",
    "Nel punto 1 il programma non deve interrompersi in caso di eccezioni, ma deve continuare a chiedere i valori fino a quando questi saranno corretti."
   ]
  },
  {
   "cell_type": "code",
   "execution_count": 11,
   "id": "05b0aa96",
   "metadata": {},
   "outputs": [
    {
     "name": "stdout",
     "output_type": "stream",
     "text": [
      "Inserisci il primo numero: 15\n",
      "Inserisci il secondo numero: 2\n",
      "Inserisci l'operatore aritmetico: *\n",
      "30.0\n"
     ]
    }
   ],
   "source": [
    "def calculator(a, b, op_aritmetico):\n",
    "    \n",
    "    assert(op_aritmetico in [\"+\",\"-\",\"*\",\"/\"]), op_aritmetico+ \" Non è un operatore valido\"\n",
    "    \n",
    "    if op_aritmetico == \"+\":\n",
    "        return a+b\n",
    "    elif op_aritmetico == \"-\":\n",
    "        return a-b\n",
    "    elif op_aritmetico == \"*\":\n",
    "        return a*b\n",
    "    elif op_aritmetico == \"/\":\n",
    "        try:\n",
    "            return a/b\n",
    "        except ZeroDivisionError:\n",
    "            print(\"Non puoi dividere per Zero\")\n",
    "            \n",
    "a, b = None, None\n",
    "\n",
    "while a is None:\n",
    "    try:\n",
    "        a = float(input(\"Inserisci il primo numero: \"))\n",
    "    except ValueError:\n",
    "        print(\"Numero non valido.\")\n",
    "        \n",
    "while b is None:\n",
    "    try:\n",
    "        b = float(input(\"Inserisci il secondo numero: \"))\n",
    "    except ValueError:\n",
    "        print(\"Numero non valido.\")\n",
    "        \n",
    "op_aritmetico = input(\"Inserisci l'operatore aritmetico: \")\n",
    "\n",
    "try:\n",
    "    c = calculator(a, b, op_aritmetico)\n",
    "    print(c)\n",
    "except Exception as e:\n",
    "    print(e)\n",
    "    \n"
   ]
  },
  {
   "cell_type": "code",
   "execution_count": null,
   "id": "ee45b169",
   "metadata": {},
   "outputs": [],
   "source": []
  }
 ],
 "metadata": {
  "kernelspec": {
   "display_name": "Python 3",
   "language": "python",
   "name": "python3"
  },
  "language_info": {
   "codemirror_mode": {
    "name": "ipython",
    "version": 3
   },
   "file_extension": ".py",
   "mimetype": "text/x-python",
   "name": "python",
   "nbconvert_exporter": "python",
   "pygments_lexer": "ipython3",
   "version": "3.8.8"
  }
 },
 "nbformat": 4,
 "nbformat_minor": 5
}
