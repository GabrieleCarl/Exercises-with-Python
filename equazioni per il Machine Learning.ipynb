{
 "cells": [
  {
   "cell_type": "markdown",
   "metadata": {
    "colab_type": "text",
    "id": "FgluqP41yalp"
   },
   "source": [
    "# Equazioni per il Machine Learning\n",
    "Le funzioni di attivazione sono una parte fondamentale delle reti neurali artificiali, implementiamo le seguenti funzioni di attivazione usando ovunque è possibile il modulo math di Python.\n",
    "##### Sigmoide\n",
    "$ \\sigma(z) = \\frac{1}{1+e^{-z}} $\n",
    "##### Rectified Linear Unit (ReLU)\n",
    "$ g(z) = \\begin{Bmatrix}\n",
    "0 \\ \\ \\ se \\ \\ z < 0\n",
    "\\\\\n",
    "z \\ \\ \\ se \\ \\ z \\geq 0\n",
    "\\end{Bmatrix}\n",
    "$\n",
    "##### Tangente iperbolica\n",
    "$ \\tanh(z) = \\frac{1-e^{-2z}}{1+e^{-2z}} $\n",
    "<br><br>\n",
    "Per valutare la qualità di un qualsiasi modello di machine learning è necessario usare una funzione di costo, implementiamo la log loss utilizzando dove è possibile il modulo math di Python\n",
    "##### Log Loss\n",
    "$ \\text{J}(y, \\hat{y}) ) = -\\frac{1}{N}\\sum_{i=1}^N(y_i\\cdot log(a_i) + (1-y_i)\\cdot log(1-a_i) $\n"
   ]
  },
  {
   "cell_type": "code",
   "execution_count": 2,
   "metadata": {},
   "outputs": [],
   "source": [
    "import math\n",
    "\n",
    "def sigmoid(z):\n",
    "    return 1/(1+math.exp(-z))\n",
    "\n",
    "def relu(z):\n",
    "    return max(0, z)\n",
    "\n",
    "def tanh(z):\n",
    "    return (1-math.exp(-2*z))/(1+math.exp(-2*z))\n",
    "\n",
    "\n",
    "def log_loss(y,a):\n",
    "    \n",
    "    assert(len(y)==len(a)), \"y ed a stessa dimensione\"\n",
    "    \n",
    "    loss = 0\n",
    "    \n",
    "    for y_i, a_i in zip(y, a):\n",
    "        loss += y_i*math.log(a_i)+(1-y_i)*math.log(1-a_i)\n",
    "    \n",
    "    return -loss/len(y)"
   ]
  }
 ],
 "metadata": {
  "colab": {
   "name": "standard_library_exercises.ipynb",
   "provenance": []
  },
  "kernelspec": {
   "display_name": "Python 3",
   "language": "python",
   "name": "python3"
  },
  "language_info": {
   "codemirror_mode": {
    "name": "ipython",
    "version": 3
   },
   "file_extension": ".py",
   "mimetype": "text/x-python",
   "name": "python",
   "nbconvert_exporter": "python",
   "pygments_lexer": "ipython3",
   "version": "3.8.8"
  }
 },
 "nbformat": 4,
 "nbformat_minor": 1
}
